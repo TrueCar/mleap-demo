{
 "cells": [
  {
   "cell_type": "code",
   "execution_count": 1,
   "metadata": {
    "collapsed": false
   },
   "outputs": [],
   "source": [
    "import requests\n",
    "import json\n",
    "from random import randint"
   ]
  },
  {
   "cell_type": "code",
   "execution_count": 2,
   "metadata": {
    "collapsed": false
   },
   "outputs": [
    {
     "name": "stdout",
     "output_type": "stream",
     "text": [
      "N Bedrooms: 5.0 N Bathrooms: 1.0 N Reviews: 29.0 Predicted Price: 132.974458612\n",
      "N Bedrooms: 2.0 N Bathrooms: 3.0 N Reviews: 20.0 Predicted Price: 176.236331338\n",
      "N Bedrooms: 9.0 N Bathrooms: 5.0 N Reviews: 43.0 Predicted Price: 236.10838173\n",
      "N Bedrooms: 7.0 N Bathrooms: 3.0 N Reviews: 11.0 Predicted Price: 202.20998118\n",
      "N Bedrooms: 5.0 N Bathrooms: 4.0 N Reviews: 42.0 Predicted Price: 236.10838173\n",
      "N Bedrooms: 10.0 N Bathrooms: 1.0 N Reviews: 14.0 Predicted Price: 131.367258969\n",
      "N Bedrooms: 8.0 N Bathrooms: 2.0 N Reviews: 28.0 Predicted Price: 174.349331296\n",
      "N Bedrooms: 5.0 N Bathrooms: 5.0 N Reviews: 39.0 Predicted Price: 202.20998118\n",
      "N Bedrooms: 8.0 N Bathrooms: 3.0 N Reviews: 31.0 Predicted Price: 202.20998118\n",
      "N Bedrooms: 1.0 N Bathrooms: 5.0 N Reviews: 25.0 Predicted Price: 113.113359756\n",
      "N Bedrooms: 8.0 N Bathrooms: 5.0 N Reviews: 46.0 Predicted Price: 236.10838173\n",
      "N Bedrooms: 8.0 N Bathrooms: 5.0 N Reviews: 38.0 Predicted Price: 202.20998118\n",
      "N Bedrooms: 5.0 N Bathrooms: 2.0 N Reviews: 46.0 Predicted Price: 206.79313172\n",
      "N Bedrooms: 6.0 N Bathrooms: 4.0 N Reviews: 24.0 Predicted Price: 202.20998118\n",
      "N Bedrooms: 10.0 N Bathrooms: 2.0 N Reviews: 48.0 Predicted Price: 206.79313172\n",
      "N Bedrooms: 6.0 N Bathrooms: 3.0 N Reviews: 40.0 Predicted Price: 202.20998118\n",
      "N Bedrooms: 0.0 N Bathrooms: 3.0 N Reviews: 34.0 Predicted Price: 113.113359756\n",
      "N Bedrooms: 2.0 N Bathrooms: 2.0 N Reviews: 8.0 Predicted Price: 169.723727977\n",
      "N Bedrooms: 10.0 N Bathrooms: 4.0 N Reviews: 15.0 Predicted Price: 202.20998118\n",
      "N Bedrooms: 7.0 N Bathrooms: 2.0 N Reviews: 33.0 Predicted Price: 174.349331296\n",
      "N Bedrooms: 10.0 N Bathrooms: 1.0 N Reviews: 50.0 Predicted Price: 172.505501446\n",
      "N Bedrooms: 5.0 N Bathrooms: 2.0 N Reviews: 11.0 Predicted Price: 174.349331296\n",
      "N Bedrooms: 2.0 N Bathrooms: 5.0 N Reviews: 50.0 Predicted Price: 206.679690627\n",
      "N Bedrooms: 1.0 N Bathrooms: 1.0 N Reviews: 42.0 Predicted Price: 117.051621121\n",
      "N Bedrooms: 8.0 N Bathrooms: 4.0 N Reviews: 8.0 Predicted Price: 202.20998118\n",
      "N Bedrooms: 10.0 N Bathrooms: 1.0 N Reviews: 20.0 Predicted Price: 131.367258969\n",
      "N Bedrooms: 3.0 N Bathrooms: 5.0 N Reviews: 15.0 Predicted Price: 202.20998118\n",
      "N Bedrooms: 5.0 N Bathrooms: 4.0 N Reviews: 40.0 Predicted Price: 202.20998118\n",
      "N Bedrooms: 0.0 N Bathrooms: 5.0 N Reviews: 40.0 Predicted Price: 113.113359756\n",
      "N Bedrooms: 1.0 N Bathrooms: 2.0 N Reviews: 44.0 Predicted Price: 127.553276854\n",
      "N Bedrooms: 7.0 N Bathrooms: 1.0 N Reviews: 43.0 Predicted Price: 172.505501446\n",
      "N Bedrooms: 6.0 N Bathrooms: 3.0 N Reviews: 34.0 Predicted Price: 202.20998118\n",
      "N Bedrooms: 0.0 N Bathrooms: 2.0 N Reviews: 4.0 Predicted Price: 117.340100968\n",
      "N Bedrooms: 3.0 N Bathrooms: 1.0 N Reviews: 37.0 Predicted Price: 132.974458612\n",
      "N Bedrooms: 9.0 N Bathrooms: 4.0 N Reviews: 46.0 Predicted Price: 236.10838173\n",
      "N Bedrooms: 3.0 N Bathrooms: 3.0 N Reviews: 48.0 Predicted Price: 236.10838173\n",
      "N Bedrooms: 7.0 N Bathrooms: 3.0 N Reviews: 8.0 Predicted Price: 202.20998118\n",
      "N Bedrooms: 2.0 N Bathrooms: 1.0 N Reviews: 12.0 Predicted Price: 127.792221299\n",
      "N Bedrooms: 10.0 N Bathrooms: 2.0 N Reviews: 26.0 Predicted Price: 174.349331296\n",
      "N Bedrooms: 1.0 N Bathrooms: 2.0 N Reviews: 22.0 Predicted Price: 110.91726718\n",
      "N Bedrooms: 4.0 N Bathrooms: 4.0 N Reviews: 43.0 Predicted Price: 236.10838173\n",
      "N Bedrooms: 5.0 N Bathrooms: 5.0 N Reviews: 11.0 Predicted Price: 202.20998118\n",
      "N Bedrooms: 2.0 N Bathrooms: 2.0 N Reviews: 5.0 Predicted Price: 169.723727977\n",
      "N Bedrooms: 7.0 N Bathrooms: 2.0 N Reviews: 21.0 Predicted Price: 174.349331296\n",
      "N Bedrooms: 1.0 N Bathrooms: 1.0 N Reviews: 36.0 Predicted Price: 98.6942076797\n",
      "N Bedrooms: 5.0 N Bathrooms: 4.0 N Reviews: 38.0 Predicted Price: 202.20998118\n",
      "N Bedrooms: 8.0 N Bathrooms: 3.0 N Reviews: 28.0 Predicted Price: 202.20998118\n",
      "N Bedrooms: 0.0 N Bathrooms: 1.0 N Reviews: 43.0 Predicted Price: 117.810513726\n",
      "N Bedrooms: 1.0 N Bathrooms: 3.0 N Reviews: 4.0 Predicted Price: 118.083358802\n",
      "N Bedrooms: 9.0 N Bathrooms: 2.0 N Reviews: 8.0 Predicted Price: 174.349331296\n"
     ]
    }
   ],
   "source": [
    "def _iter(n_iter=20):\n",
    "    for i in range(0, n_iter):\n",
    "        \n",
    "        # randomly set the number of bedrooms/bathrooms/reviews (other variables remain constant)\n",
    "        n_bathrooms = float(randint(1,5))\n",
    "        n_bedrooms = float(randint(0,10))\n",
    "        n_reviews = float(randint(1,50))\n",
    "        \n",
    "        # Define the leap frame\n",
    "        datum = {\n",
    "          \"schema\": {\n",
    "            \"fields\": [{\n",
    "              \"name\": \"bathrooms\",\n",
    "              \"dataType\": \"double\"\n",
    "            }, {\n",
    "              \"name\": \"bedrooms\",\n",
    "              \"dataType\": \"double\"\n",
    "            }, {\n",
    "              \"name\": \"security_deposit\",\n",
    "              \"dataType\": \"double\"\n",
    "            }, {\n",
    "              \"name\": \"cleaning_fee\",\n",
    "              \"dataType\": \"double\"\n",
    "            }, {\n",
    "              \"name\": \"extra_people\",\n",
    "              \"dataType\": \"double\"\n",
    "            }, {\n",
    "              \"name\": \"number_of_reviews\",\n",
    "              \"dataType\": \"double\"\n",
    "            }, {\n",
    "              \"name\": \"review_scores_rating\",\n",
    "              \"dataType\": \"double\"\n",
    "            }, {\n",
    "              \"name\": \"room_type\",\n",
    "              \"dataType\": \"string\"\n",
    "            }, {\n",
    "              \"name\": \"host_is_superhost\",\n",
    "              \"dataType\": \"string\"\n",
    "            }, {\n",
    "              \"name\": \"cancellation_policy\",\n",
    "              \"dataType\": \"string\"\n",
    "            }, {\n",
    "              \"name\": \"instant_bookable\",\n",
    "              \"dataType\": \"string\"\n",
    "            }]\n",
    "          },\n",
    "          \"rows\": [[n_bathrooms, n_bedrooms, 50.0, 30.0, n_reviews, 56.0, 90.0, \"Entire home/apt\", \"1.0\", \"strict\", \"1.0\"]]\n",
    "        }\n",
    "\n",
    "        # make a request\n",
    "        r = requests.request('POST', 'http://localhost:8080/transform', json=datum)\n",
    "\n",
    "        # transform to json/dict\n",
    "        p = json.loads(r.text)['frame']['rows'][0][-1]\n",
    "        \n",
    "        # print the output\n",
    "        print \"N Bedrooms: {} N Bathrooms: {} N Reviews: {} Predicted Price: {}\".format(n_bedrooms, n_bathrooms, n_reviews, p)\n",
    "        \n",
    "_iter(50)"
   ]
  },
  {
   "cell_type": "code",
   "execution_count": null,
   "metadata": {
    "collapsed": true
   },
   "outputs": [],
   "source": []
  }
 ],
 "metadata": {
  "kernelspec": {
   "display_name": "Python 2",
   "language": "python",
   "name": "python2"
  },
  "language_info": {
   "codemirror_mode": {
    "name": "ipython",
    "version": 2
   },
   "file_extension": ".py",
   "mimetype": "text/x-python",
   "name": "python",
   "nbconvert_exporter": "python",
   "pygments_lexer": "ipython2",
   "version": "2.7.11"
  }
 },
 "nbformat": 4,
 "nbformat_minor": 0
}
